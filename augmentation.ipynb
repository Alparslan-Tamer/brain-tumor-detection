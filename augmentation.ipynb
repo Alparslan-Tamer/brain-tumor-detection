{
 "cells": [
  {
   "cell_type": "code",
   "execution_count": 46,
   "metadata": {},
   "outputs": [],
   "source": [
    "import os\n",
    "import glob\n",
    "\n",
    "import matplotlib.pyplot as plt\n",
    "import albumentations as A\n",
    "import numpy as np\n",
    "import cv2"
   ]
  },
  {
   "cell_type": "code",
   "execution_count": 83,
   "metadata": {},
   "outputs": [],
   "source": [
    "classes = [\"glioma_tumor\", \"meningioma_tumor\", \"pituitary_tumor\"]"
   ]
  },
  {
   "cell_type": "code",
   "execution_count": 84,
   "metadata": {},
   "outputs": [],
   "source": [
    "# öncelikle training verilerini klasörden okuyacağız.\n",
    "image_dir = \"dataset/training/images\"\n",
    "label_dir = \"dataset/training/labels\"\n",
    "\n",
    "augmented_image_dir = \"augmented_dataset/training/images\"\n",
    "augmented_label_dir = \"augmented_dataset/training/labels\"\n",
    "\n",
    "image_paths = glob.glob(os.path.join(image_dir, \"*.jpg\"))"
   ]
  },
  {
   "cell_type": "code",
   "execution_count": 85,
   "metadata": {},
   "outputs": [],
   "source": [
    "\n",
    "def get_transform(width, height):\n",
    "    transform = A.Compose(\n",
    "        [\n",
    "            A.OneOf([\n",
    "                A.RandomCrop(width=int(width * 0.8), height=int(height * 0.8), p=0.9),\n",
    "                A.ShiftScaleRotate(p=0.9, border_mode=cv2.BORDER_CONSTANT, rotate_limit=15),\n",
    "            ], p=0.9),\n",
    "            A.OneOf([\n",
    "                A.RandomBrightnessContrast(p=0.9),\n",
    "                A.RandomGamma(p=0.9),\n",
    "            ]),\n",
    "        ], bbox_params=A.BboxParams(format=\"yolo\", min_visibility=0.5)\n",
    "    )\n",
    "\n",
    "    return transform"
   ]
  },
  {
   "cell_type": "code",
   "execution_count": 86,
   "metadata": {},
   "outputs": [],
   "source": [
    "# Elimizde her sınıf için yaklaşık 350 örnek var ve bu yetersiz bu sebep ile veri artırma yapacağız. Her örnek için yeni 2 örnek oluşturacağız.\n",
    "\n",
    "for image_path in image_paths:\n",
    "\n",
    "    image = cv2.imread(image_path)\n",
    "    image = cv2.cvtColor(image, cv2.COLOR_BGR2RGB)\n",
    "\n",
    "    transform = get_transform(image.shape[1], image.shape[0])\n",
    "\n",
    "    label_path = os.path.join(label_dir, image_path.split(\"/\")[-1].split(\".\")[0] + \".txt\")\n",
    "    \n",
    "    with open(label_path, \"r\") as file:\n",
    "        data = file.read().split(\"\\n\")\n",
    "    \n",
    "    bboxes = []\n",
    "    for line in data:\n",
    "\n",
    "        if line:\n",
    "            label_idx, normalized_x_center, normalized_y_center, normalized_width, normalized_height = line.split(\" \")\n",
    "            bboxes.append([float(normalized_x_center), float(normalized_y_center), float(normalized_width), float(normalized_height), classes[int(label_idx)]])\n",
    "\n",
    "    for i in range(2):\n",
    "\n",
    "        # Bounding box koordinatlarını alıp veri artırma işlemi yapacağız.\n",
    "        augmented = transform(image=image, bboxes=bboxes)\n",
    "        augmented_image = augmented[\"image\"]\n",
    "        augmented_bboxes = augmented[\"bboxes\"]\n",
    "        \n",
    "\n",
    "        # Veriyi kaydetme\n",
    "        augmented_image_name = image_path.split(\"/\")[-1].split(\".\")[0] + f\"_augmented_{i+1}.jpg\"\n",
    "        augmented_label_name = image_path.split(\"/\")[-1].split(\".\")[0] + f\"_augmented_{i+1}.txt\"\n",
    "\n",
    "        # # draw bounding boxes\n",
    "        # for bbox in augmented_bboxes:\n",
    "        #     x_center, y_center, width, height, label = bbox\n",
    "        #     x_min = int((x_center - width / 2) * augmented_image.shape[1])\n",
    "        #     y_min = int((y_center - height / 2) * augmented_image.shape[0])\n",
    "        #     x_max = int((x_center + width / 2) * augmented_image.shape[1])\n",
    "        #     y_max = int((y_center + height / 2) * augmented_image.shape[0])\n",
    "\n",
    "        #     cv2.rectangle(augmented_image, (x_min, y_min), (x_max, y_max), (255, 0, 0), 2)\n",
    "        #     cv2.putText(augmented_image, label, (x_min, y_min - 10), cv2.FONT_HERSHEY_SIMPLEX, 0.9, (36,255,12), 2)\n",
    "\n",
    "        cv2.imwrite(os.path.join(augmented_image_dir, augmented_image_name), cv2.cvtColor(augmented_image, cv2.COLOR_RGB2BGR))\n",
    "\n",
    "        for bbox in augmented_bboxes:\n",
    "\n",
    "            x_center, y_center, width, height, label = bbox\n",
    "            \n",
    "            with open(os.path.join(augmented_label_dir, augmented_label_name), \"a\") as file:\n",
    "                file.write(f\"{classes.index(label)} {x_center} {y_center} {width} {height}\\n\")\n",
    "\n",
    "    # # draw bounding boxes\n",
    "    # for bbox in bboxes:\n",
    "    #     x_center, y_center, width, height, label = bbox\n",
    "    #     x_min = int((x_center - width / 2) * image.shape[1])\n",
    "    #     y_min = int((y_center - height / 2) * image.shape[0])\n",
    "    #     x_max = int((x_center + width / 2) * image.shape[1])\n",
    "    #     y_max = int((y_center + height / 2) * image.shape[0])\n",
    "\n",
    "    #     cv2.rectangle(image, (x_min, y_min), (x_max, y_max), (255, 0, 0), 2)\n",
    "    #     cv2.putText(image, label, (x_min, y_min - 10), cv2.FONT_HERSHEY_SIMPLEX, 0.9, (36,255,12), 2)\n",
    "\n",
    "    # save original image and label\n",
    "    cv2.imwrite(os.path.join(augmented_image_dir, image_path.split(\"/\")[-1]), cv2.cvtColor(image, cv2.COLOR_RGB2BGR))\n",
    "\n",
    "    with open(os.path.join(augmented_label_dir, label_path.split(\"/\")[-1]), \"w\") as file:\n",
    "        file.write(f\"{classes.index(label)} {normalized_x_center} {normalized_y_center} {normalized_width} {normalized_height}\")\n"
   ]
  },
  {
   "cell_type": "code",
   "execution_count": null,
   "metadata": {},
   "outputs": [],
   "source": []
  }
 ],
 "metadata": {
  "kernelspec": {
   "display_name": "ultralytics",
   "language": "python",
   "name": "python3"
  },
  "language_info": {
   "codemirror_mode": {
    "name": "ipython",
    "version": 3
   },
   "file_extension": ".py",
   "mimetype": "text/x-python",
   "name": "python",
   "nbconvert_exporter": "python",
   "pygments_lexer": "ipython3",
   "version": "3.11.9"
  }
 },
 "nbformat": 4,
 "nbformat_minor": 2
}
